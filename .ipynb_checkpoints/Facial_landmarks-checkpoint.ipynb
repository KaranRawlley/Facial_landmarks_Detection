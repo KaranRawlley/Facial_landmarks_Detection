{
 "cells": [
  {
   "cell_type": "code",
   "execution_count": 23,
   "metadata": {},
   "outputs": [],
   "source": [
    "import numpy as np\n",
    "import dlib \n",
    "import cv2\n",
    "import argparse\n",
    "from imutils import face_utils\n",
    "import imutils"
   ]
  },
  {
   "cell_type": "code",
   "execution_count": 2,
   "metadata": {},
   "outputs": [],
   "source": [
    "def rect_bb(rect): # accepts bounding box of face(rect) \n",
    "                      # detetcted by face detector\n",
    "    x = rect.left()   # which give only x,y coordinates \n",
    "    y = rect.top()    # converts int into 4-tupples of argument \n",
    "    w = rect.right() - x  #(x,y,width,height)\n",
    "    h = rect.bottom() - y\n",
    "    \n",
    "    return (x,y,w,h)"
   ]
  },
  {
   "cell_type": "code",
   "execution_count": 3,
   "metadata": {},
   "outputs": [],
   "source": [
    "# converts the shape object of 68 facial landmarks to numpy array\n",
    "\n",
    "def shape_np(shape):\n",
    "    cord = np.zeros((68,2),dtype=dtype)\n",
    "    for i in range(0,68):\n",
    "        cord[i] = (shape.part(i).x,shape.part(i).y)\n",
    "    return cord"
   ]
  },
  {
   "cell_type": "code",
   "execution_count": 28,
   "metadata": {},
   "outputs": [
    {
     "name": "stderr",
     "output_type": "stream",
     "text": [
      "usage: ipykernel_launcher.py [-h] -p P -i I\n",
      "ipykernel_launcher.py: error: the following arguments are required: -p/-shape_predictor_68_face_landmarks.dat, -i/-me.jpg\n"
     ]
    },
    {
     "ename": "SystemExit",
     "evalue": "2",
     "output_type": "error",
     "traceback": [
      "An exception has occurred, use %tb to see the full traceback.\n",
      "\u001b[1;31mSystemExit\u001b[0m\u001b[1;31m:\u001b[0m 2\n"
     ]
    },
    {
     "name": "stderr",
     "output_type": "stream",
     "text": [
      "C:\\Users\\admin\\Anaconda3\\lib\\site-packages\\IPython\\core\\interactiveshell.py:2971: UserWarning: To exit: use 'exit', 'quit', or Ctrl-D.\n",
      "  warn(\"To exit: use 'exit', 'quit', or Ctrl-D.\", stacklevel=1)\n"
     ]
    }
   ],
   "source": [
    "ap = argparse.ArgumentParser()\n",
    "# # --shape detector is the path to dlib's pre trained facial landmark detector\n",
    "ap.add_argument(\"-p\",\"--shape-predictor\",required=True,help=\"path to facial landmark detector\") \n",
    "# # path to input image\n",
    "ap.add_argument(\"-i\", \"--image\", required=True,help=\"path to input image\")\n",
    "args = vars(ap.parse_args())\n",
    "\n"
   ]
  },
  {
   "cell_type": "code",
   "execution_count": null,
   "metadata": {},
   "outputs": [],
   "source": []
  }
 ],
 "metadata": {
  "kernelspec": {
   "display_name": "Python 3",
   "language": "python",
   "name": "python3"
  },
  "language_info": {
   "codemirror_mode": {
    "name": "ipython",
    "version": 3
   },
   "file_extension": ".py",
   "mimetype": "text/x-python",
   "name": "python",
   "nbconvert_exporter": "python",
   "pygments_lexer": "ipython3",
   "version": "3.6.5"
  }
 },
 "nbformat": 4,
 "nbformat_minor": 2
}
